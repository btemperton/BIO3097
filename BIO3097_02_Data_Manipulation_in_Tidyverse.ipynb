{
  "nbformat": 4,
  "nbformat_minor": 0,
  "metadata": {
    "colab": {
      "provenance": []
    },
    "kernelspec": {
      "name": "ir",
      "display_name": "R"
    },
    "language_info": {
      "name": "R"
    }
  },
  "cells": [
    {
      "cell_type": "markdown",
      "source": [
        "# Introduction\n",
        "\n",
        "In this notebook, we are going to explore some of the data manipulation capabilities offered by `tidyverse`\n",
        "\n",
        "Like before, we need to set up our environment."
      ],
      "metadata": {
        "id": "SLbWn3RwtsLo"
      }
    },
    {
      "cell_type": "code",
      "execution_count": null,
      "metadata": {
        "id": "3F4VM10Z90Y0"
      },
      "outputs": [],
      "source": [
        "library(\"repr\")\n",
        "library(\"tidyverse\")\n",
        "install.packages('cowplot')\n",
        "library('cowplot')\n",
        "library('colorspace')\n",
        "\n",
        "# Sets the default size of the figures in the notebook\n",
        "options(repr.plot.width=12.7, repr.plot.height=8.5)"
      ]
    },
    {
      "cell_type": "code",
      "source": [
        "genome_data = read_csv(url('https://raw.githubusercontent.com/btemperton/BIO3097/main/full-genome-data.csv'), show_col_types = FALSE, col_type='ccddicf')\n",
        "head(genome_data)"
      ],
      "metadata": {
        "id": "xm8wDDUC-GOt"
      },
      "execution_count": null,
      "outputs": []
    },
    {
      "cell_type": "markdown",
      "source": [
        "## The tidyverse 'pipe' - `%>%`\n",
        "\n",
        "Tidyverse allows you to manipulate dataframes in hundreds of different ways by combining different methods together. It does this using the 'pipe' operator - `%>%`. What this means is 'take the dataframe that is to the left of this operator, and use it as the input to the function on the right of this operator.\n",
        "\n",
        "For instance, if we wanted to filter out just the prokaryotes in the dataframe above into a new dataframe, we would use the `filter` method and do something like:\n",
        "\n"
      ],
      "metadata": {
        "id": "peKOlgdPCjm2"
      }
    },
    {
      "cell_type": "code",
      "source": [
        "prokaryotes_only = genome_data %>% filter(type=='prokaryote')\n",
        "summary(prokaryotes_only)"
      ],
      "metadata": {
        "id": "VE5mEHsIFS5v"
      },
      "execution_count": null,
      "outputs": []
    },
    {
      "cell_type": "markdown",
      "source": [
        "in the `filter` method, we are testing each row to see if the `type` column has a value equal to (`==`) the word `prokaryote`. Note the use of double `==` here, which is a test to see if the left value is equal in value to the right value.\n",
        "\n",
        "A single `=` sign in R, (as seen in `genome_data = read_csv...`) means `assign the value of the right hand side to the name given on the left hand side`\n",
        "\n",
        "You'll notice in the above that some of our GC content is 0. That seems weird - no genomes use ONLY A and T bases, so it is most likely an error in the data. We can remove these rows by adding a second filter to test that this value is greater than 0. This is the first example of how we can **chain together** tidyverse commands to slice the data how we want."
      ],
      "metadata": {
        "id": "rutj3cpVFpud"
      }
    },
    {
      "cell_type": "code",
      "source": [
        "prokaryotes_only = genome_data %>% filter(type=='prokaryote') %>% filter(gc > 0)\n",
        "summary(prokaryotes_only)"
      ],
      "metadata": {
        "id": "wL6slM4eGd2E"
      },
      "execution_count": null,
      "outputs": []
    },
    {
      "cell_type": "markdown",
      "source": [
        "Now let's say we wanted to pull out any prokaryotes that were NOT either pathogens or obligate parasites. i.e. these will have no associated host data. Here, we want to pull out any records where the value of host is NA (not available). Values of `NA` are a special value in R, and so there is a special function to test for them called `is.na`. We'll save this in a variable called `free_living`"
      ],
      "metadata": {
        "id": "Jw9Q7wrBGq-a"
      }
    },
    {
      "cell_type": "code",
      "source": [
        "free_living = genome_data %>% filter(type=='prokaryote') %>% filter(gc > 0) %>% filter(is.na(host))\n",
        "summary(free_living)"
      ],
      "metadata": {
        "id": "q5UcTf_mG-Yh"
      },
      "execution_count": null,
      "outputs": []
    },
    {
      "cell_type": "markdown",
      "source": [
        "Now let's say we wanted to pull out all the Pelagibacter genomes. We can search the `organism_name` for the correct word. This uses a pattern match known as a regular expression, or `regex`. They can be quite complicated, so for now let's just stick to matching single words."
      ],
      "metadata": {
        "id": "lRJExaxCHuHS"
      }
    },
    {
      "cell_type": "code",
      "source": [
        "pelagibacters = genome_data %>% filter(type=='prokaryote') %>% filter(gc > 0) %>% filter(is.na(host)) %>% filter(grepl('Pelagibacter', organism_name, ignore.case=TRUE))\n",
        "pelagibacters"
      ],
      "metadata": {
        "id": "IM-VPPzzH5jN"
      },
      "execution_count": null,
      "outputs": []
    },
    {
      "cell_type": "markdown",
      "source": [
        "You will note that this includes both `Pelagibacter` and `Pelagibacterium`. Both of these match the search criteria, but they are two different species. `Pelagibacterium` is not a streamlined organism and has genomes of ~ 3.9 Mb.\n",
        "\n",
        "So, we can adapt our search by adding `Candidatus Pelagibacter` to the search."
      ],
      "metadata": {
        "id": "85Ye28NaXLYB"
      }
    },
    {
      "cell_type": "code",
      "source": [
        "pelagibacters = genome_data %>% filter(type=='prokaryote') %>% filter(gc > 0) %>% filter(is.na(host)) %>% filter(grepl('Candidatus Pelagibacter', organism_name, ignore.case=TRUE))\n",
        "pelagibacters"
      ],
      "metadata": {
        "id": "9cFTSE-RXodT"
      },
      "execution_count": null,
      "outputs": []
    },
    {
      "cell_type": "markdown",
      "source": [
        "If we wanted to make a dataframe of Pelagibacters and Prochlorococcus, we could make two separate dataframes and then combine them with `bind_rows`, which will concatenate two dataframes together as long as the column names are the same (which they will be in this case)"
      ],
      "metadata": {
        "id": "198Hba7mJSa5"
      }
    },
    {
      "cell_type": "code",
      "source": [
        "pelagibacters = genome_data %>% filter(type=='prokaryote') %>% filter(gc > 0) %>% filter(is.na(host)) %>% filter(grepl('Candidatus Pelagibacter', organism_name, ignore.case=TRUE))\n",
        "prochlorococcus = genome_data %>% filter(type=='prokaryote') %>% filter(gc > 0) %>% filter(is.na(host)) %>% filter(grepl('Prochlorococcus', organism_name, ignore.case=TRUE))\n",
        "combined_dataframe = pelagibacters %>% bind_rows(prochlorococcus)\n",
        "combined_dataframe"
      ],
      "metadata": {
        "id": "vot0Rjk1JmiA"
      },
      "execution_count": null,
      "outputs": []
    },
    {
      "cell_type": "markdown",
      "source": [
        "# Adding new columns\n",
        "\n",
        "Let's say we want to calculate *coding density*, i.e. the number of genes encoded per MB of genome. We can create a new column using the `mutate` function and provide it with the name of the column (`coding_density`) and how to calculate it from other columns in the data:"
      ],
      "metadata": {
        "id": "Kd2jjtawKOJ8"
      }
    },
    {
      "cell_type": "code",
      "source": [
        "genome_data_new = genome_data %>% mutate(coding_density=num_genes/size_mb)\n",
        "head(genome_data_new)"
      ],
      "metadata": {
        "id": "8Ru-8XhqKoKX"
      },
      "execution_count": null,
      "outputs": []
    },
    {
      "cell_type": "markdown",
      "source": [
        "`mutate` can get really powerful when you combine it with the `ifelse` function. Let's say we want to make a plot of genome size vs number of genes as we did in the previous notebook, but we want to just highlight the pelagibacters and the prochlororoccus genomes in different colours. We want the rest to be grey.\n",
        "\n",
        "For this, we need a new factor on the table so that we can tell `ggplot` how to colour the points. We'll call it `highlight` and it'll be a factor with three values: `Pelagibacter`, `Prochlorococcus`, and `Other`\n",
        "\n",
        "Step one will be to just pull out the free living prokaryotes as we did above:"
      ],
      "metadata": {
        "id": "lg730LGBLOPj"
      }
    },
    {
      "cell_type": "code",
      "source": [
        "prokaryotes_only = genome_data %>% filter(type=='prokaryote') %>% filter(gc > 0)\n",
        "head(prokaryotes_only)"
      ],
      "metadata": {
        "id": "Oy3HuXlyMEnD"
      },
      "execution_count": null,
      "outputs": []
    },
    {
      "cell_type": "markdown",
      "source": [
        "Step 2 will be to add a new column called `highlight` and give it the default value of `Other` (we'll change this for Pelagibacter and Prochlorococcus in a minute)."
      ],
      "metadata": {
        "id": "In1hbbv1MJ5C"
      }
    },
    {
      "cell_type": "code",
      "source": [
        "prokaryotes_only = genome_data %>% filter(type=='prokaryote') %>% filter(gc > 0) %>% mutate(highlight='Other')\n",
        "head(prokaryotes_only)"
      ],
      "metadata": {
        "id": "O5iXP59JMdCQ"
      },
      "execution_count": null,
      "outputs": []
    },
    {
      "cell_type": "markdown",
      "source": [
        "Now, you might start to notice that the pipes can get a bit long. To make it clearer to read, you can put anything AFTER the pipe operator on a new line:"
      ],
      "metadata": {
        "id": "7xPD4rQEMjyF"
      }
    },
    {
      "cell_type": "code",
      "source": [
        "prokaryotes_only = genome_data %>%\n",
        "  filter(type=='prokaryote') %>%\n",
        "    filter(gc > 0) %>%\n",
        "      mutate(highlight='Other')\n",
        "\n",
        "table(prokaryotes_only$highlight)"
      ],
      "metadata": {
        "id": "6-aMIVmcMudN"
      },
      "execution_count": null,
      "outputs": []
    },
    {
      "cell_type": "markdown",
      "source": [
        "\n",
        "The `table` command used here simply counts the number of occurences of each value in a column. Here, all rows have a `highlight` value of `Other`.\n",
        "\n",
        "Let's now change the values for Pelagibacters using `ifelse`. `ifelse` works by passing it a test to carry out (in this case if the `organism_name` includes the word `Pelagibacter` as we did above), and then a value to assign if it is true, and then a value to assign if it is false.\n",
        "\n",
        "Here, we will assign the value of 'Pelagibacter' to `highlight` if the `organism_name` has `Pelagibacter` in it, and set it to the current value of `highlight` (e.g. 'Other') if it does not. Note, in the second `mutate` we are effectively writing over the top of the `highlight` column with the new value."
      ],
      "metadata": {
        "id": "HvX7FGj-M40X"
      }
    },
    {
      "cell_type": "code",
      "source": [
        "prokaryotes_only = genome_data %>%\n",
        "  filter(type=='prokaryote') %>%\n",
        "    filter(gc > 0) %>%\n",
        "      mutate(highlight='Other') %>%\n",
        "        mutate(highlight=ifelse(grepl('Candidatus Pelagibacter', organism_name, ignore.case=TRUE), 'Pelagibacter', highlight))\n",
        "table(prokaryotes_only$highlight)"
      ],
      "metadata": {
        "id": "Q1SaEsbbNaDS"
      },
      "execution_count": null,
      "outputs": []
    },
    {
      "cell_type": "markdown",
      "source": [
        "We can do the same for Prochlorococcus"
      ],
      "metadata": {
        "id": "VvbCNIy_OLgx"
      }
    },
    {
      "cell_type": "code",
      "source": [
        "prokaryotes_only = genome_data %>%\n",
        "  filter(type=='prokaryote') %>%\n",
        "    filter(gc > 0) %>%\n",
        "      mutate(highlight='Other') %>%\n",
        "        mutate(highlight=ifelse(grepl('Candidatus Pelagibacter', organism_name, ignore.case=TRUE), 'Pelagibacter', highlight)) %>%\n",
        "        mutate(highlight=ifelse(grepl('Prochlorococcus', organism_name, ignore.case=TRUE), 'Prochlorococcus', highlight))\n",
        "table(prokaryotes_only$highlight)"
      ],
      "metadata": {
        "id": "V8XU0ud9OQk4"
      },
      "execution_count": null,
      "outputs": []
    },
    {
      "cell_type": "markdown",
      "source": [
        "Now we have everything we need to make our cool plot, by using `highlight` as the factor for the `fill` and the `color` parameters in the `geom_point` aesthetic"
      ],
      "metadata": {
        "id": "x-j8czbsPYXb"
      }
    },
    {
      "cell_type": "code",
      "source": [
        "okabe_ito <- c(\"#E69F00\", \"#56B4E9\", \"#009E73\", \"#F0E442\", \"#0072B2\", \"#999999\")\n",
        "\n",
        "\n",
        "ggplot(prokaryotes_only, aes(x=size_mb, y=num_genes)) +\n",
        "  geom_point(aes(color = highlight, fill = highlight),\n",
        "             size=4, shape=21, alpha=0.3) +\n",
        "  scale_x_continuous(name='Size (Mbp)') +\n",
        "  scale_y_continuous(name='Number of encoded genes') +\n",
        "  scale_fill_manual(values=okabe_ito) +\n",
        "  scale_color_manual(values=darken(okabe_ito, 0.3)) +\n",
        "  geom_smooth(method='lm', colour='black', linetype='dashed') +\n",
        "  theme_cowplot(25)"
      ],
      "metadata": {
        "id": "umrZ4lYfPlGr"
      },
      "execution_count": null,
      "outputs": []
    },
    {
      "cell_type": "markdown",
      "source": [
        "Oh dear. It looks like our interesting species are hidden amongst the others. We can get round this by changing the shape, size and alpha of the `geom_point` to vary depending on the value of `highlight`. To do this we need to add it to the `aes` of `geom_point`. We can then scale each of these manually by adding the correct `scale_shape_manual` and `scale_size_manual` functions."
      ],
      "metadata": {
        "id": "Aa4Lp0B_QRXy"
      }
    },
    {
      "cell_type": "markdown",
      "source": [],
      "metadata": {
        "id": "Yw8eUC1SQRIR"
      }
    },
    {
      "cell_type": "code",
      "source": [
        "okabe_ito <- c(\"#E69F00\", \"#56B4E9\", \"#009E73\", \"#F0E442\", \"#0072B2\", \"#999999\")\n",
        "\n",
        "\n",
        "ggplot(prokaryotes_only, aes(x=size_mb, y=num_genes)) +\n",
        "  geom_point(aes(color = highlight, fill = highlight, shape=highlight, size=highlight, alpha=highlight)) +\n",
        "  scale_x_continuous(name='Size (Mbp)') +\n",
        "  scale_y_continuous(name='Number of encoded genes') +\n",
        "  scale_fill_manual(values=okabe_ito) +\n",
        "  scale_color_manual(values=darken(okabe_ito, 0.3)) +\n",
        "  scale_shape_manual(values = c(16,21,21)) +\n",
        "  scale_size_manual(values=c(1,6,6)) +\n",
        "  scale_alpha_manual(values=c(0.3, 0.6, 0.6)) +\n",
        "  geom_smooth(method='lm', colour='black', linetype='dashed') +\n",
        "  theme_cowplot(25)"
      ],
      "metadata": {
        "id": "Cj2yb7NOQpTK"
      },
      "execution_count": null,
      "outputs": []
    },
    {
      "cell_type": "markdown",
      "source": [
        "I mean it's better, but still not very clear. Here we can leverage the power of `ggplot` to plot multiple datasets on the same graph. We will divide up the three `highlight` types, and plot `Other` first, then the two remaining categories. Note, we can include the pipe operator in our ggplot to do the filtering!\n",
        "\n",
        "Note, if we want the `geom_smooth` to use all the data, we need to specify the full dataset, otherwise it'll use what's in the earliest call to `ggplot` (in this case `prokaryotes_only %>% filter(highlight=='Other')`"
      ],
      "metadata": {
        "id": "Y26C52zITrnQ"
      }
    },
    {
      "cell_type": "code",
      "source": [
        "\n",
        "\n",
        "ggplot(prokaryotes_only %>% filter(highlight=='Other'), aes(x=size_mb, y=num_genes)) +\n",
        "  geom_point(color=\"#999999\", shape=1, size=1, fill=\"#999999\", alpha=0.4) +\n",
        "  geom_point(data=prokaryotes_only %>% filter(highlight=='Pelagibacter'), color=darken(\"#56B4E9\", 0.3), shape=21, size=6, fill=\"#56B4E9\", alpha=0.8) +\n",
        "  geom_point(data=prokaryotes_only %>% filter(highlight=='Prochlorococcus'), color=darken(\"#009E73\", 0.3), shape=21, size=6, fill=\"#009E73\", alpha=0.8) +\n",
        "  scale_x_continuous(name='Size (Mbp)') +\n",
        "  scale_y_continuous(name='Number of encoded genes') +\n",
        "  geom_smooth(data=prokaryotes_only, method='lm', colour='black', linetype='dashed') +\n",
        "  theme_cowplot(25)"
      ],
      "metadata": {
        "id": "sXWqeTGDUHMX"
      },
      "execution_count": null,
      "outputs": []
    },
    {
      "cell_type": "markdown",
      "source": [
        "You can see in this graph just how small these genomes are compared to other free living bacteria!\n",
        "\n",
        "# Other types of plot\n",
        "\n",
        "We now have categorical data that explains genome size and encoding genes. What if we wanted to compare `coding_density` between Pelagibacter Prochlorococcus and other bacteria? We can start to use the other types of `geom_` available in `ggplot`. For instance if we wanted to do a barplot, we would set the x axis to be the categorical variable `highlight` and the y axis to be `coding_density`.\n",
        "\n",
        "Because we want to use `highlight` as a categorical variable, we'll need to convert it into a factor using `mutate` and specify its levels. The order in which you specify the names determines the order they appear on the x-axis."
      ],
      "metadata": {
        "id": "RQNeVR-qYQau"
      }
    },
    {
      "cell_type": "code",
      "source": [
        "prokaryotes_only = genome_data %>%\n",
        "  filter(type=='prokaryote') %>%\n",
        "    filter(gc > 0) %>%\n",
        "      mutate(highlight='Other') %>%\n",
        "        mutate(highlight=ifelse(grepl('Candidatus Pelagibacter', organism_name, ignore.case=TRUE), 'Pelagibacter', highlight)) %>%\n",
        "        mutate(highlight=ifelse(grepl('Prochlorococcus', organism_name, ignore.case=TRUE), 'Prochlorococcus', highlight)) %>%\n",
        "        mutate(coding_density=num_genes/size_mb) %>%\n",
        "        mutate(highlight=factor(highlight, levels=c('Pelagibacter', 'Prochlorococcus', 'Other')))\n",
        "\n",
        "head(prokaryotes_only)\n",
        "\n",
        "\n",
        "\n"
      ],
      "metadata": {
        "id": "KmiINFHFWjIM"
      },
      "execution_count": null,
      "outputs": []
    },
    {
      "cell_type": "markdown",
      "source": [
        "Now let's plot a bar plot with the mean value as the y-axis value."
      ],
      "metadata": {
        "id": "l4Z3HJfjbVkp"
      }
    },
    {
      "cell_type": "code",
      "source": [
        "okabe_ito <- c(\"#E69F00\", \"#56B4E9\", \"#009E73\", \"#F0E442\", \"#0072B2\", \"#999999\")\n",
        "\n",
        "\n",
        "ggplot(prokaryotes_only, aes(x=highlight, y=coding_density)) +\n",
        "  geom_bar(aes(fill=highlight), stat = \"summary\") +\n",
        "  scale_x_discrete(name='Type') +\n",
        "  scale_y_continuous(name='Coding Density') +\n",
        "  scale_fill_manual(values=okabe_ito) +\n",
        "  theme_cowplot(25)"
      ],
      "metadata": {
        "id": "k2RTTDQAaDBp"
      },
      "execution_count": null,
      "outputs": []
    },
    {
      "cell_type": "markdown",
      "source": [
        "You can see that Pelagibacter and Prochlorococccus have higher mean coding density than other genomes.\n",
        "\n",
        "But all the information associated with the underlying distributions of the data (i.e. what is actually in the data) is missing. Our data has been reduced to a single value (the mean). This is bad.\n",
        "\n",
        "Boxplots are a much better choice for this kind of data as they capture the distribution of the underlying data. In `ggplot` it's a simple case of just swapping out the plot aesthetic from `geom_bar` to `geom_boxplot`"
      ],
      "metadata": {
        "id": "t_F2juq1bdpv"
      }
    },
    {
      "cell_type": "code",
      "source": [
        "okabe_ito <- c(\"#E69F00\", \"#56B4E9\", \"#009E73\", \"#F0E442\", \"#0072B2\", \"#999999\")\n",
        "\n",
        "\n",
        "ggplot(prokaryotes_only, aes(x=highlight, y=coding_density)) +\n",
        "  geom_boxplot(aes(fill=highlight)) +\n",
        "  scale_x_discrete(name='Type') +\n",
        "  scale_y_continuous(name='Coding Density') +\n",
        "  scale_fill_manual(values=okabe_ito) +\n",
        "  theme_cowplot(25)"
      ],
      "metadata": {
        "id": "Pbd9zEhobjNY"
      },
      "execution_count": null,
      "outputs": []
    },
    {
      "cell_type": "markdown",
      "source": [
        "Those are some CRUSHED boxplots, because the variability of `Other` is so big compared to those of the other two categories. We can resolve this by limitng the y-axis to values between 800 and 1200 in the `scale_y_continuous` function."
      ],
      "metadata": {
        "id": "0JwVs9yVcOUs"
      }
    },
    {
      "cell_type": "code",
      "source": [
        "okabe_ito <- c(\"#E69F00\", \"#56B4E9\", \"#009E73\", \"#F0E442\", \"#0072B2\", \"#999999\")\n",
        "\n",
        "\n",
        "ggplot(prokaryotes_only, aes(x=highlight, y=coding_density)) +\n",
        "  geom_boxplot(aes(fill=highlight), outlier.shape = NA) +\n",
        "  scale_x_discrete(name='Type') +\n",
        "  scale_y_continuous(name='Coding Density', limits=c(800, 1200)) +\n",
        "  scale_fill_manual(values=okabe_ito) +\n",
        "  theme_cowplot(25)"
      ],
      "metadata": {
        "id": "mKFQe7Dzck_z"
      },
      "execution_count": null,
      "outputs": []
    },
    {
      "cell_type": "markdown",
      "source": [
        "Note the warning on the removal of rows - these are the values that fall outside of this range and it's generally a good idea to report on this if you end up needing to limit your axes in this way. If you can, always use scaling (e.g. square root, log etc) to show all the data across large ranges.\n",
        "\n",
        "Now one thing this figure hides is that there are so many more data points for other than for Pelagibacter and Prochlorococcus.\n",
        "\n",
        "It would be great if we could also plot on the actual points. As we saw before, this is easy with `ggplot` because you can plot multiple plots on the same plot.\n",
        "\n",
        "So here, we are going to plot the box plots, and then plot the actual points using `geom_point`."
      ],
      "metadata": {
        "id": "6YsZgf05dtEG"
      }
    },
    {
      "cell_type": "code",
      "source": [
        "okabe_ito <- c(\"#E69F00\", \"#56B4E9\", \"#009E73\", \"#F0E442\", \"#0072B2\", \"#999999\")\n",
        "\n",
        "\n",
        "ggplot(prokaryotes_only, aes(x=highlight, y=coding_density)) +\n",
        "  geom_boxplot(aes(fill=highlight), outlier.shape = NA) +\n",
        "  geom_point() +\n",
        "  scale_x_discrete(name='Type') +\n",
        "  scale_y_continuous(name='Coding Density', limits=c(800, 1200)) +\n",
        "  scale_fill_manual(values=okabe_ito) +\n",
        "  theme_cowplot(25)"
      ],
      "metadata": {
        "id": "i1UbqU29eqiW"
      },
      "execution_count": null,
      "outputs": []
    },
    {
      "cell_type": "markdown",
      "source": [
        "Better - now you can see there are thousands of points for `Other` and only a few for `Prochlorococcus` and `Pelagibacter`. We can accentuate this further by adding a jitter function to separate the dots from the central line so they can be seen more clearly.\n",
        "\n"
      ],
      "metadata": {
        "id": "0lfEX7NHe7wQ"
      }
    },
    {
      "cell_type": "code",
      "source": [
        "okabe_ito <- c(\"#E69F00\", \"#56B4E9\", \"#009E73\", \"#F0E442\", \"#0072B2\", \"#999999\")\n",
        "\n",
        "\n",
        "ggplot(prokaryotes_only, aes(x=highlight, y=coding_density)) +\n",
        "  geom_boxplot(aes(fill=highlight), outlier.shape = NA) +\n",
        "  geom_jitter(width = 0.25) +\n",
        "  scale_x_discrete(name='Type') +\n",
        "  scale_y_continuous(name='Coding Density', limits=c(800, 1200)) +\n",
        "  scale_fill_manual(values=okabe_ito) +\n",
        "  theme_cowplot(25)"
      ],
      "metadata": {
        "id": "nWbbELUcfSmq"
      },
      "execution_count": null,
      "outputs": []
    },
    {
      "cell_type": "markdown",
      "source": [
        "Now we can tidy things up a bit by plotting the points first, and then plotting the boxplots over the top, and decreasing the alpha to make them translucent. We can also hide the now-redundant legend"
      ],
      "metadata": {
        "id": "VX7Y4mt3fn8g"
      }
    },
    {
      "cell_type": "code",
      "source": [
        "okabe_ito <- c(\"#E69F00\", \"#56B4E9\", \"#009E73\", \"#F0E442\", \"#0072B2\", \"#999999\")\n",
        "\n",
        "\n",
        "ggplot(prokaryotes_only, aes(x=highlight, y=coding_density)) +\n",
        "  geom_jitter(width = 0.25, alpha=0.5) +\n",
        "  geom_boxplot(aes(fill=highlight), outlier.shape = NA, alpha=0.7) +\n",
        "  scale_x_discrete(name='Type') +\n",
        "  scale_y_continuous(name='Coding Density', limits=c(800, 1200)) +\n",
        "  scale_fill_manual(values=okabe_ito) +\n",
        "  theme_cowplot(25) +\n",
        "  theme(legend.position='none')"
      ],
      "metadata": {
        "id": "M3rCUqy9fyU9"
      },
      "execution_count": null,
      "outputs": []
    },
    {
      "cell_type": "markdown",
      "source": [
        "You can see in this data that a lot of the data points for `Other` are being cut off as the bottom is very blocky still.\n",
        "\n",
        "When your data is this skewed in terms of sample size, it is worth considering randomly subsampling the most abundant one"
      ],
      "metadata": {
        "id": "vzetKfDegSTM"
      }
    },
    {
      "cell_type": "markdown",
      "source": [],
      "metadata": {
        "id": "wTdwNM8pgxp8"
      }
    }
  ]
}