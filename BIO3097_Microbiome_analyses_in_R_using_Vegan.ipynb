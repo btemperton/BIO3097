{
  "nbformat": 4,
  "nbformat_minor": 0,
  "metadata": {
    "colab": {
      "provenance": []
    },
    "kernelspec": {
      "name": "ir",
      "display_name": "R"
    },
    "language_info": {
      "name": "R"
    }
  },
  "cells": [
    {
      "cell_type": "markdown",
      "source": [
        "# Introduction\n",
        "Here we will quickly demonstrate using R to analyse microbiomes with the `vegan` package. This is a hugely powerful package for handling the multivariate analyses associated with microbial community composition data. There is a great PDF to guide you through its usage [here](https://cran.r-project.org/web/packages/vegan/vegan.pdf)\n",
        "\n",
        "There is also a REALLY good series on Youtube by Pat Schloss who guides you through microbiome analyses for those of you who want to dig a bit deeper. He also covers how to install R and the various packages on your own computers if you wish to do so.\n",
        "\n",
        "You can find those videos [here](https://www.youtube.com/watch?v=D6CunpqF04E&list=PLmNrK_nkqBpIIRdQTS2aOs5OD7vVMKWAi&ab_channel=RiffomonasProject)\n",
        "\n",
        "Like always, we need to install the libraries and make them available\n"
      ],
      "metadata": {
        "id": "7JTGSfmbyTn5"
      }
    },
    {
      "cell_type": "code",
      "execution_count": null,
      "metadata": {
        "id": "pfM5uxBUyLVx"
      },
      "outputs": [],
      "source": [
        "library(\"tidyverse\")\n",
        "install.packages(c('cowplot', 'vegan', 'readxl'))\n",
        "library('cowplot')\n",
        "library('colorspace')\n",
        "library('vegan')\n",
        "library('readxl')"
      ]
    },
    {
      "cell_type": "markdown",
      "source": [
        "Now upload your data from last week's soil diversity task to your folder on the left\n",
        "\n",
        "Then load it in as a dataframe using `read_excel` function"
      ],
      "metadata": {
        "id": "iQlhm_nkyQzz"
      }
    },
    {
      "cell_type": "code",
      "source": [
        "soils = read.csv('/content/soils_task.csv', row.names=1)\n",
        "head(soils)"
      ],
      "metadata": {
        "id": "dmmbI0Mszs-0"
      },
      "execution_count": null,
      "outputs": []
    },
    {
      "cell_type": "markdown",
      "source": [
        "Needs to be transposed so OTUs are on the top and samples are the row names"
      ],
      "metadata": {
        "id": "2-OwwHby2QPI"
      }
    },
    {
      "cell_type": "code",
      "source": [
        "soils_t = t(soils)\n",
        "head(soils_t)"
      ],
      "metadata": {
        "id": "Ah9QH8cq2VH4"
      },
      "execution_count": null,
      "outputs": []
    },
    {
      "cell_type": "markdown",
      "source": [
        "Now let's calculate diversity"
      ],
      "metadata": {
        "id": "_K9e-oRS1xL-"
      }
    },
    {
      "cell_type": "code",
      "source": [
        "shannon = diversity(sqrt(soils_t), index = \"shannon\")\n",
        "dataframe = tibble(sample=row.names(soils_t), shannon_diversity=shannon)\n",
        "dataframe"
      ],
      "metadata": {
        "id": "O9fpDUPT10Zv"
      },
      "execution_count": null,
      "outputs": []
    }
  ]
}