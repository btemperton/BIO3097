{
  "nbformat": 4,
  "nbformat_minor": 0,
  "metadata": {
    "colab": {
      "provenance": []
    },
    "kernelspec": {
      "name": "ir",
      "display_name": "R"
    },
    "language_info": {
      "name": "R"
    }
  },
  "cells": [
    {
      "cell_type": "markdown",
      "source": [
        "# Introduction\n",
        "Here we will quickly demonstrate using R to analyse microbiomes with the `vegan` package\n",
        "\n",
        "Like always, we need to install the libraries and make them available\n"
      ],
      "metadata": {
        "id": "7JTGSfmbyTn5"
      }
    },
    {
      "cell_type": "code",
      "execution_count": 4,
      "metadata": {
        "colab": {
          "base_uri": "https://localhost:8080/"
        },
        "id": "pfM5uxBUyLVx",
        "outputId": "1a01e988-0f6f-4d02-d32f-a7c74c36d188"
      },
      "outputs": [
        {
          "output_type": "stream",
          "name": "stderr",
          "text": [
            "Installing packages into ‘/usr/local/lib/R/site-library’\n",
            "(as ‘lib’ is unspecified)\n",
            "\n"
          ]
        }
      ],
      "source": [
        "library(\"tidyverse\")\n",
        "install.packages(c('cowplot', 'vegan', 'readxl'))\n",
        "library('cowplot')\n",
        "library('colorspace')\n",
        "library('vegan')\n",
        "library('readxl')"
      ]
    },
    {
      "cell_type": "markdown",
      "source": [
        "Now upload your data from last week's soil diversity task to your folder on the left\n",
        "\n",
        "Then load it in as a dataframe using `read_excel` function"
      ],
      "metadata": {
        "id": "iQlhm_nkyQzz"
      }
    },
    {
      "cell_type": "code",
      "source": [
        "soils = read.csv('/content/soils_task.csv', row.names=1)\n",
        "head(soils)"
      ],
      "metadata": {
        "colab": {
          "base_uri": "https://localhost:8080/",
          "height": 286
        },
        "id": "dmmbI0Mszs-0",
        "outputId": "4b6a9d6b-7381-4cc3-b1f8-ed93a4c7e223"
      },
      "execution_count": 9,
      "outputs": [
        {
          "output_type": "display_data",
          "data": {
            "text/html": [
              "<table class=\"dataframe\">\n",
              "<caption>A data.frame: 6 × 20</caption>\n",
              "<thead>\n",
              "\t<tr><th></th><th scope=col>A01</th><th scope=col>A02</th><th scope=col>A03</th><th scope=col>A04</th><th scope=col>A05</th><th scope=col>A06</th><th scope=col>A07</th><th scope=col>A08</th><th scope=col>A09</th><th scope=col>A10</th><th scope=col>B01</th><th scope=col>B02</th><th scope=col>B03</th><th scope=col>B04</th><th scope=col>B05</th><th scope=col>B06</th><th scope=col>B07</th><th scope=col>B08</th><th scope=col>B09</th><th scope=col>B10</th></tr>\n",
              "\t<tr><th></th><th scope=col>&lt;int&gt;</th><th scope=col>&lt;int&gt;</th><th scope=col>&lt;int&gt;</th><th scope=col>&lt;int&gt;</th><th scope=col>&lt;int&gt;</th><th scope=col>&lt;int&gt;</th><th scope=col>&lt;int&gt;</th><th scope=col>&lt;int&gt;</th><th scope=col>&lt;int&gt;</th><th scope=col>&lt;int&gt;</th><th scope=col>&lt;int&gt;</th><th scope=col>&lt;int&gt;</th><th scope=col>&lt;int&gt;</th><th scope=col>&lt;int&gt;</th><th scope=col>&lt;int&gt;</th><th scope=col>&lt;int&gt;</th><th scope=col>&lt;int&gt;</th><th scope=col>&lt;int&gt;</th><th scope=col>&lt;int&gt;</th><th scope=col>&lt;int&gt;</th></tr>\n",
              "</thead>\n",
              "<tbody>\n",
              "\t<tr><th scope=row>OTU_001</th><td>43</td><td> 56</td><td> 65</td><td> 89</td><td>62</td><td> 15</td><td> 94</td><td>68</td><td> 49</td><td>68</td><td>13</td><td> 0</td><td> 69</td><td> 78</td><td>40</td><td> 42</td><td> 55</td><td>21</td><td> 42</td><td>36</td></tr>\n",
              "\t<tr><th scope=row>OTU_002</th><td> 0</td><td>  0</td><td> 36</td><td>  0</td><td>38</td><td>109</td><td> 83</td><td> 0</td><td>  3</td><td> 0</td><td> 0</td><td> 0</td><td>121</td><td>  0</td><td>90</td><td>431</td><td> 86</td><td> 0</td><td>  1</td><td> 0</td></tr>\n",
              "\t<tr><th scope=row>OTU_003</th><td> 1</td><td>  0</td><td>  0</td><td>  4</td><td> 0</td><td>  0</td><td>  2</td><td> 1</td><td>  1</td><td> 0</td><td>45</td><td> 0</td><td>134</td><td>397</td><td>68</td><td> 80</td><td>145</td><td>57</td><td> 43</td><td>12</td></tr>\n",
              "\t<tr><th scope=row>OTU_004</th><td>23</td><td> 50</td><td> 14</td><td> 42</td><td>26</td><td> 16</td><td> 10</td><td>33</td><td> 36</td><td>32</td><td>85</td><td>17</td><td>106</td><td>119</td><td>70</td><td> 93</td><td> 43</td><td>35</td><td> 66</td><td>73</td></tr>\n",
              "\t<tr><th scope=row>OTU_005</th><td>55</td><td>106</td><td>122</td><td>216</td><td>41</td><td> 23</td><td>202</td><td>22</td><td>173</td><td>21</td><td> 0</td><td> 0</td><td>  0</td><td>  1</td><td> 0</td><td>  0</td><td>  0</td><td> 0</td><td>  0</td><td> 0</td></tr>\n",
              "\t<tr><th scope=row>OTU_006</th><td>21</td><td> 40</td><td> 30</td><td> 55</td><td>20</td><td> 23</td><td>  7</td><td>15</td><td> 19</td><td>14</td><td>66</td><td> 0</td><td> 45</td><td>147</td><td>44</td><td>147</td><td> 36</td><td>68</td><td>113</td><td>67</td></tr>\n",
              "</tbody>\n",
              "</table>\n"
            ],
            "text/markdown": "\nA data.frame: 6 × 20\n\n| <!--/--> | A01 &lt;int&gt; | A02 &lt;int&gt; | A03 &lt;int&gt; | A04 &lt;int&gt; | A05 &lt;int&gt; | A06 &lt;int&gt; | A07 &lt;int&gt; | A08 &lt;int&gt; | A09 &lt;int&gt; | A10 &lt;int&gt; | B01 &lt;int&gt; | B02 &lt;int&gt; | B03 &lt;int&gt; | B04 &lt;int&gt; | B05 &lt;int&gt; | B06 &lt;int&gt; | B07 &lt;int&gt; | B08 &lt;int&gt; | B09 &lt;int&gt; | B10 &lt;int&gt; |\n|---|---|---|---|---|---|---|---|---|---|---|---|---|---|---|---|---|---|---|---|---|\n| OTU_001 | 43 |  56 |  65 |  89 | 62 |  15 |  94 | 68 |  49 | 68 | 13 |  0 |  69 |  78 | 40 |  42 |  55 | 21 |  42 | 36 |\n| OTU_002 |  0 |   0 |  36 |   0 | 38 | 109 |  83 |  0 |   3 |  0 |  0 |  0 | 121 |   0 | 90 | 431 |  86 |  0 |   1 |  0 |\n| OTU_003 |  1 |   0 |   0 |   4 |  0 |   0 |   2 |  1 |   1 |  0 | 45 |  0 | 134 | 397 | 68 |  80 | 145 | 57 |  43 | 12 |\n| OTU_004 | 23 |  50 |  14 |  42 | 26 |  16 |  10 | 33 |  36 | 32 | 85 | 17 | 106 | 119 | 70 |  93 |  43 | 35 |  66 | 73 |\n| OTU_005 | 55 | 106 | 122 | 216 | 41 |  23 | 202 | 22 | 173 | 21 |  0 |  0 |   0 |   1 |  0 |   0 |   0 |  0 |   0 |  0 |\n| OTU_006 | 21 |  40 |  30 |  55 | 20 |  23 |   7 | 15 |  19 | 14 | 66 |  0 |  45 | 147 | 44 | 147 |  36 | 68 | 113 | 67 |\n\n",
            "text/latex": "A data.frame: 6 × 20\n\\begin{tabular}{r|llllllllllllllllllll}\n  & A01 & A02 & A03 & A04 & A05 & A06 & A07 & A08 & A09 & A10 & B01 & B02 & B03 & B04 & B05 & B06 & B07 & B08 & B09 & B10\\\\\n  & <int> & <int> & <int> & <int> & <int> & <int> & <int> & <int> & <int> & <int> & <int> & <int> & <int> & <int> & <int> & <int> & <int> & <int> & <int> & <int>\\\\\n\\hline\n\tOTU\\_001 & 43 &  56 &  65 &  89 & 62 &  15 &  94 & 68 &  49 & 68 & 13 &  0 &  69 &  78 & 40 &  42 &  55 & 21 &  42 & 36\\\\\n\tOTU\\_002 &  0 &   0 &  36 &   0 & 38 & 109 &  83 &  0 &   3 &  0 &  0 &  0 & 121 &   0 & 90 & 431 &  86 &  0 &   1 &  0\\\\\n\tOTU\\_003 &  1 &   0 &   0 &   4 &  0 &   0 &   2 &  1 &   1 &  0 & 45 &  0 & 134 & 397 & 68 &  80 & 145 & 57 &  43 & 12\\\\\n\tOTU\\_004 & 23 &  50 &  14 &  42 & 26 &  16 &  10 & 33 &  36 & 32 & 85 & 17 & 106 & 119 & 70 &  93 &  43 & 35 &  66 & 73\\\\\n\tOTU\\_005 & 55 & 106 & 122 & 216 & 41 &  23 & 202 & 22 & 173 & 21 &  0 &  0 &   0 &   1 &  0 &   0 &   0 &  0 &   0 &  0\\\\\n\tOTU\\_006 & 21 &  40 &  30 &  55 & 20 &  23 &   7 & 15 &  19 & 14 & 66 &  0 &  45 & 147 & 44 & 147 &  36 & 68 & 113 & 67\\\\\n\\end{tabular}\n",
            "text/plain": [
              "        A01 A02 A03 A04 A05 A06 A07 A08 A09 A10 B01 B02 B03 B04 B05 B06 B07 B08\n",
              "OTU_001 43   56  65  89 62   15  94 68   49 68  13   0   69  78 40   42  55 21 \n",
              "OTU_002  0    0  36   0 38  109  83  0    3  0   0   0  121   0 90  431  86  0 \n",
              "OTU_003  1    0   0   4  0    0   2  1    1  0  45   0  134 397 68   80 145 57 \n",
              "OTU_004 23   50  14  42 26   16  10 33   36 32  85  17  106 119 70   93  43 35 \n",
              "OTU_005 55  106 122 216 41   23 202 22  173 21   0   0    0   1  0    0   0  0 \n",
              "OTU_006 21   40  30  55 20   23   7 15   19 14  66   0   45 147 44  147  36 68 \n",
              "        B09 B10\n",
              "OTU_001  42 36 \n",
              "OTU_002   1  0 \n",
              "OTU_003  43 12 \n",
              "OTU_004  66 73 \n",
              "OTU_005   0  0 \n",
              "OTU_006 113 67 "
            ]
          },
          "metadata": {}
        }
      ]
    },
    {
      "cell_type": "markdown",
      "source": [
        "Needs to be transposed so OTUs are on the top and samples are the row names"
      ],
      "metadata": {
        "id": "2-OwwHby2QPI"
      }
    },
    {
      "cell_type": "code",
      "source": [
        "soils_t = t(soils)\n",
        "head(soils_t)"
      ],
      "metadata": {
        "colab": {
          "base_uri": "https://localhost:8080/",
          "height": 255
        },
        "id": "Ah9QH8cq2VH4",
        "outputId": "7563a7c6-7f98-4f12-a8ef-81e00e11addf"
      },
      "execution_count": 11,
      "outputs": [
        {
          "output_type": "display_data",
          "data": {
            "text/html": [
              "<table class=\"dataframe\">\n",
              "<caption>A matrix: 6 × 300 of type int</caption>\n",
              "<thead>\n",
              "\t<tr><th></th><th scope=col>OTU_001</th><th scope=col>OTU_002</th><th scope=col>OTU_003</th><th scope=col>OTU_004</th><th scope=col>OTU_005</th><th scope=col>OTU_006</th><th scope=col>OTU_007</th><th scope=col>OTU_008</th><th scope=col>OTU_009</th><th scope=col>OTU_010</th><th scope=col>⋯</th><th scope=col>OTU_291</th><th scope=col>OTU_292</th><th scope=col>OTU_293</th><th scope=col>OTU_294</th><th scope=col>OTU_295</th><th scope=col>OTU_296</th><th scope=col>OTU_297</th><th scope=col>OTU_298</th><th scope=col>OTU_299</th><th scope=col>OTU_300</th></tr>\n",
              "</thead>\n",
              "<tbody>\n",
              "\t<tr><th scope=row>A01</th><td>43</td><td>  0</td><td>1</td><td>23</td><td> 55</td><td>21</td><td> 78</td><td>0</td><td> 0</td><td>0</td><td>⋯</td><td>0</td><td> 0</td><td>0</td><td> 0</td><td>0</td><td>0</td><td>0</td><td>0</td><td>0</td><td>0</td></tr>\n",
              "\t<tr><th scope=row>A02</th><td>56</td><td>  0</td><td>0</td><td>50</td><td>106</td><td>40</td><td> 54</td><td>0</td><td> 0</td><td>0</td><td>⋯</td><td>0</td><td> 0</td><td>0</td><td> 0</td><td>0</td><td>0</td><td>0</td><td>0</td><td>0</td><td>0</td></tr>\n",
              "\t<tr><th scope=row>A03</th><td>65</td><td> 36</td><td>0</td><td>14</td><td>122</td><td>30</td><td>  1</td><td>0</td><td> 0</td><td>0</td><td>⋯</td><td>0</td><td> 0</td><td>0</td><td> 0</td><td>0</td><td>0</td><td>0</td><td>0</td><td>0</td><td>0</td></tr>\n",
              "\t<tr><th scope=row>A04</th><td>89</td><td>  0</td><td>4</td><td>42</td><td>216</td><td>55</td><td> 56</td><td>0</td><td> 0</td><td>0</td><td>⋯</td><td>0</td><td> 0</td><td>0</td><td> 0</td><td>0</td><td>0</td><td>0</td><td>0</td><td>0</td><td>0</td></tr>\n",
              "\t<tr><th scope=row>A05</th><td>62</td><td> 38</td><td>0</td><td>26</td><td> 41</td><td>20</td><td> 31</td><td>0</td><td> 0</td><td>0</td><td>⋯</td><td>0</td><td>13</td><td>0</td><td>20</td><td>0</td><td>0</td><td>0</td><td>0</td><td>0</td><td>0</td></tr>\n",
              "\t<tr><th scope=row>A06</th><td>15</td><td>109</td><td>0</td><td>16</td><td> 23</td><td>23</td><td>101</td><td>0</td><td>21</td><td>0</td><td>⋯</td><td>0</td><td> 0</td><td>0</td><td> 0</td><td>0</td><td>0</td><td>0</td><td>0</td><td>0</td><td>0</td></tr>\n",
              "</tbody>\n",
              "</table>\n"
            ],
            "text/markdown": "\nA matrix: 6 × 300 of type int\n\n| <!--/--> | OTU_001 | OTU_002 | OTU_003 | OTU_004 | OTU_005 | OTU_006 | OTU_007 | OTU_008 | OTU_009 | OTU_010 | ⋯ | OTU_291 | OTU_292 | OTU_293 | OTU_294 | OTU_295 | OTU_296 | OTU_297 | OTU_298 | OTU_299 | OTU_300 |\n|---|---|---|---|---|---|---|---|---|---|---|---|---|---|---|---|---|---|---|---|---|---|\n| A01 | 43 |   0 | 1 | 23 |  55 | 21 |  78 | 0 |  0 | 0 | ⋯ | 0 |  0 | 0 |  0 | 0 | 0 | 0 | 0 | 0 | 0 |\n| A02 | 56 |   0 | 0 | 50 | 106 | 40 |  54 | 0 |  0 | 0 | ⋯ | 0 |  0 | 0 |  0 | 0 | 0 | 0 | 0 | 0 | 0 |\n| A03 | 65 |  36 | 0 | 14 | 122 | 30 |   1 | 0 |  0 | 0 | ⋯ | 0 |  0 | 0 |  0 | 0 | 0 | 0 | 0 | 0 | 0 |\n| A04 | 89 |   0 | 4 | 42 | 216 | 55 |  56 | 0 |  0 | 0 | ⋯ | 0 |  0 | 0 |  0 | 0 | 0 | 0 | 0 | 0 | 0 |\n| A05 | 62 |  38 | 0 | 26 |  41 | 20 |  31 | 0 |  0 | 0 | ⋯ | 0 | 13 | 0 | 20 | 0 | 0 | 0 | 0 | 0 | 0 |\n| A06 | 15 | 109 | 0 | 16 |  23 | 23 | 101 | 0 | 21 | 0 | ⋯ | 0 |  0 | 0 |  0 | 0 | 0 | 0 | 0 | 0 | 0 |\n\n",
            "text/latex": "A matrix: 6 × 300 of type int\n\\begin{tabular}{r|lllllllllllllllllllll}\n  & OTU\\_001 & OTU\\_002 & OTU\\_003 & OTU\\_004 & OTU\\_005 & OTU\\_006 & OTU\\_007 & OTU\\_008 & OTU\\_009 & OTU\\_010 & ⋯ & OTU\\_291 & OTU\\_292 & OTU\\_293 & OTU\\_294 & OTU\\_295 & OTU\\_296 & OTU\\_297 & OTU\\_298 & OTU\\_299 & OTU\\_300\\\\\n\\hline\n\tA01 & 43 &   0 & 1 & 23 &  55 & 21 &  78 & 0 &  0 & 0 & ⋯ & 0 &  0 & 0 &  0 & 0 & 0 & 0 & 0 & 0 & 0\\\\\n\tA02 & 56 &   0 & 0 & 50 & 106 & 40 &  54 & 0 &  0 & 0 & ⋯ & 0 &  0 & 0 &  0 & 0 & 0 & 0 & 0 & 0 & 0\\\\\n\tA03 & 65 &  36 & 0 & 14 & 122 & 30 &   1 & 0 &  0 & 0 & ⋯ & 0 &  0 & 0 &  0 & 0 & 0 & 0 & 0 & 0 & 0\\\\\n\tA04 & 89 &   0 & 4 & 42 & 216 & 55 &  56 & 0 &  0 & 0 & ⋯ & 0 &  0 & 0 &  0 & 0 & 0 & 0 & 0 & 0 & 0\\\\\n\tA05 & 62 &  38 & 0 & 26 &  41 & 20 &  31 & 0 &  0 & 0 & ⋯ & 0 & 13 & 0 & 20 & 0 & 0 & 0 & 0 & 0 & 0\\\\\n\tA06 & 15 & 109 & 0 & 16 &  23 & 23 & 101 & 0 & 21 & 0 & ⋯ & 0 &  0 & 0 &  0 & 0 & 0 & 0 & 0 & 0 & 0\\\\\n\\end{tabular}\n",
            "text/plain": [
              "    OTU_001 OTU_002 OTU_003 OTU_004 OTU_005 OTU_006 OTU_007 OTU_008 OTU_009\n",
              "A01 43        0     1       23       55     21       78     0        0     \n",
              "A02 56        0     0       50      106     40       54     0        0     \n",
              "A03 65       36     0       14      122     30        1     0        0     \n",
              "A04 89        0     4       42      216     55       56     0        0     \n",
              "A05 62       38     0       26       41     20       31     0        0     \n",
              "A06 15      109     0       16       23     23      101     0       21     \n",
              "    OTU_010 ⋯ OTU_291 OTU_292 OTU_293 OTU_294 OTU_295 OTU_296 OTU_297 OTU_298\n",
              "A01 0       ⋯ 0        0      0        0      0       0       0       0      \n",
              "A02 0       ⋯ 0        0      0        0      0       0       0       0      \n",
              "A03 0       ⋯ 0        0      0        0      0       0       0       0      \n",
              "A04 0       ⋯ 0        0      0        0      0       0       0       0      \n",
              "A05 0       ⋯ 0       13      0       20      0       0       0       0      \n",
              "A06 0       ⋯ 0        0      0        0      0       0       0       0      \n",
              "    OTU_299 OTU_300\n",
              "A01 0       0      \n",
              "A02 0       0      \n",
              "A03 0       0      \n",
              "A04 0       0      \n",
              "A05 0       0      \n",
              "A06 0       0      "
            ]
          },
          "metadata": {}
        }
      ]
    },
    {
      "cell_type": "markdown",
      "source": [
        "Now let's calculate diversity"
      ],
      "metadata": {
        "id": "_K9e-oRS1xL-"
      }
    },
    {
      "cell_type": "code",
      "source": [
        "shannon = diversity(sqrt(soils_t), index = \"shannon\")\n",
        "dataframe = tibble(sample=row.names(soils_t), shannon_diversity=shannon)\n",
        "dataframe"
      ],
      "metadata": {
        "colab": {
          "base_uri": "https://localhost:8080/",
          "height": 725
        },
        "id": "O9fpDUPT10Zv",
        "outputId": "2d191276-340a-4c6f-ccbc-2b06d32ed543"
      },
      "execution_count": 19,
      "outputs": [
        {
          "output_type": "display_data",
          "data": {
            "text/html": [
              "<table class=\"dataframe\">\n",
              "<caption>A tibble: 20 × 2</caption>\n",
              "<thead>\n",
              "\t<tr><th scope=col>sample</th><th scope=col>shannon_diversity</th></tr>\n",
              "\t<tr><th scope=col>&lt;chr&gt;</th><th scope=col>&lt;dbl&gt;</th></tr>\n",
              "</thead>\n",
              "<tbody>\n",
              "\t<tr><td>A01</td><td>4.604996</td></tr>\n",
              "\t<tr><td>A02</td><td>4.561419</td></tr>\n",
              "\t<tr><td>A03</td><td>4.563048</td></tr>\n",
              "\t<tr><td>A04</td><td>4.702890</td></tr>\n",
              "\t<tr><td>A05</td><td>4.552948</td></tr>\n",
              "\t<tr><td>A06</td><td>4.533026</td></tr>\n",
              "\t<tr><td>A07</td><td>4.616399</td></tr>\n",
              "\t<tr><td>A08</td><td>4.564764</td></tr>\n",
              "\t<tr><td>A09</td><td>4.549510</td></tr>\n",
              "\t<tr><td>A10</td><td>4.653529</td></tr>\n",
              "\t<tr><td>B01</td><td>5.023761</td></tr>\n",
              "\t<tr><td>B02</td><td>3.702655</td></tr>\n",
              "\t<tr><td>B03</td><td>5.024058</td></tr>\n",
              "\t<tr><td>B04</td><td>5.012858</td></tr>\n",
              "\t<tr><td>B05</td><td>4.962184</td></tr>\n",
              "\t<tr><td>B06</td><td>5.065162</td></tr>\n",
              "\t<tr><td>B07</td><td>4.935089</td></tr>\n",
              "\t<tr><td>B08</td><td>4.917645</td></tr>\n",
              "\t<tr><td>B09</td><td>4.863567</td></tr>\n",
              "\t<tr><td>B10</td><td>4.888033</td></tr>\n",
              "</tbody>\n",
              "</table>\n"
            ],
            "text/markdown": "\nA tibble: 20 × 2\n\n| sample &lt;chr&gt; | shannon_diversity &lt;dbl&gt; |\n|---|---|\n| A01 | 4.604996 |\n| A02 | 4.561419 |\n| A03 | 4.563048 |\n| A04 | 4.702890 |\n| A05 | 4.552948 |\n| A06 | 4.533026 |\n| A07 | 4.616399 |\n| A08 | 4.564764 |\n| A09 | 4.549510 |\n| A10 | 4.653529 |\n| B01 | 5.023761 |\n| B02 | 3.702655 |\n| B03 | 5.024058 |\n| B04 | 5.012858 |\n| B05 | 4.962184 |\n| B06 | 5.065162 |\n| B07 | 4.935089 |\n| B08 | 4.917645 |\n| B09 | 4.863567 |\n| B10 | 4.888033 |\n\n",
            "text/latex": "A tibble: 20 × 2\n\\begin{tabular}{ll}\n sample & shannon\\_diversity\\\\\n <chr> & <dbl>\\\\\n\\hline\n\t A01 & 4.604996\\\\\n\t A02 & 4.561419\\\\\n\t A03 & 4.563048\\\\\n\t A04 & 4.702890\\\\\n\t A05 & 4.552948\\\\\n\t A06 & 4.533026\\\\\n\t A07 & 4.616399\\\\\n\t A08 & 4.564764\\\\\n\t A09 & 4.549510\\\\\n\t A10 & 4.653529\\\\\n\t B01 & 5.023761\\\\\n\t B02 & 3.702655\\\\\n\t B03 & 5.024058\\\\\n\t B04 & 5.012858\\\\\n\t B05 & 4.962184\\\\\n\t B06 & 5.065162\\\\\n\t B07 & 4.935089\\\\\n\t B08 & 4.917645\\\\\n\t B09 & 4.863567\\\\\n\t B10 & 4.888033\\\\\n\\end{tabular}\n",
            "text/plain": [
              "   sample shannon_diversity\n",
              "1  A01    4.604996         \n",
              "2  A02    4.561419         \n",
              "3  A03    4.563048         \n",
              "4  A04    4.702890         \n",
              "5  A05    4.552948         \n",
              "6  A06    4.533026         \n",
              "7  A07    4.616399         \n",
              "8  A08    4.564764         \n",
              "9  A09    4.549510         \n",
              "10 A10    4.653529         \n",
              "11 B01    5.023761         \n",
              "12 B02    3.702655         \n",
              "13 B03    5.024058         \n",
              "14 B04    5.012858         \n",
              "15 B05    4.962184         \n",
              "16 B06    5.065162         \n",
              "17 B07    4.935089         \n",
              "18 B08    4.917645         \n",
              "19 B09    4.863567         \n",
              "20 B10    4.888033         "
            ]
          },
          "metadata": {}
        }
      ]
    }
  ]
}